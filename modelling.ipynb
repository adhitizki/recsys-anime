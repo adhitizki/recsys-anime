{
 "cells": [
  {
   "cell_type": "markdown",
   "metadata": {},
   "source": [
    "# Import Libraries"
   ]
  },
  {
   "cell_type": "code",
   "execution_count": 1,
   "metadata": {},
   "outputs": [],
   "source": [
    "import pandas as pd\n",
    "import numpy as np\n",
    "\n",
    "from surprise import accuracy, Dataset, Reader, AlgoBase, SVD, KNNBaseline\n",
    "from surprise.model_selection import cross_validate\n",
    "import optuna\n",
    "import pickle"
   ]
  },
  {
   "cell_type": "markdown",
   "metadata": {},
   "source": [
    "# Load Dataset"
   ]
  },
  {
   "cell_type": "code",
   "execution_count": 2,
   "metadata": {},
   "outputs": [],
   "source": [
    "df_rating = pd.read_csv('/home/adhitizki/playground/pacmann/pacmann_recsys/data/data_2/rating.csv')\n",
    "df_desc = pd.read_csv('/home/adhitizki/playground/pacmann/pacmann_recsys/data/data_2/anime.csv')"
   ]
  },
  {
   "cell_type": "markdown",
   "metadata": {},
   "source": [
    "# Data Preprocessing"
   ]
  },
  {
   "cell_type": "code",
   "execution_count": 3,
   "metadata": {},
   "outputs": [],
   "source": [
    "# filter while rating is upper -1\n",
    "df_rating = df_rating[df_rating['rating']>-1].reset_index(drop=True)\n",
    "\n",
    "# user minimum watch 10 animes\n",
    "user_id = df_rating['user_id'].value_counts()\n",
    "user_id = user_id[user_id >= 10].index\n",
    "df_rating = df_rating[df_rating['user_id'].isin(user_id)]\n",
    "\n",
    "df_rating = df_rating.reset_index(drop=True)"
   ]
  },
  {
   "cell_type": "code",
   "execution_count": 4,
   "metadata": {},
   "outputs": [
    {
     "data": {
      "text/html": [
       "<div>\n",
       "<style scoped>\n",
       "    .dataframe tbody tr th:only-of-type {\n",
       "        vertical-align: middle;\n",
       "    }\n",
       "\n",
       "    .dataframe tbody tr th {\n",
       "        vertical-align: top;\n",
       "    }\n",
       "\n",
       "    .dataframe thead th {\n",
       "        text-align: right;\n",
       "    }\n",
       "</style>\n",
       "<table border=\"1\" class=\"dataframe\">\n",
       "  <thead>\n",
       "    <tr style=\"text-align: right;\">\n",
       "      <th></th>\n",
       "      <th>user_id</th>\n",
       "      <th>anime_id</th>\n",
       "      <th>rating</th>\n",
       "    </tr>\n",
       "  </thead>\n",
       "  <tbody>\n",
       "    <tr>\n",
       "      <th>0</th>\n",
       "      <td>3</td>\n",
       "      <td>20</td>\n",
       "      <td>8</td>\n",
       "    </tr>\n",
       "    <tr>\n",
       "      <th>1</th>\n",
       "      <td>3</td>\n",
       "      <td>154</td>\n",
       "      <td>6</td>\n",
       "    </tr>\n",
       "    <tr>\n",
       "      <th>2</th>\n",
       "      <td>3</td>\n",
       "      <td>170</td>\n",
       "      <td>9</td>\n",
       "    </tr>\n",
       "    <tr>\n",
       "      <th>3</th>\n",
       "      <td>3</td>\n",
       "      <td>199</td>\n",
       "      <td>10</td>\n",
       "    </tr>\n",
       "    <tr>\n",
       "      <th>4</th>\n",
       "      <td>3</td>\n",
       "      <td>225</td>\n",
       "      <td>9</td>\n",
       "    </tr>\n",
       "    <tr>\n",
       "      <th>...</th>\n",
       "      <td>...</td>\n",
       "      <td>...</td>\n",
       "      <td>...</td>\n",
       "    </tr>\n",
       "    <tr>\n",
       "      <th>6278354</th>\n",
       "      <td>73515</td>\n",
       "      <td>13659</td>\n",
       "      <td>8</td>\n",
       "    </tr>\n",
       "    <tr>\n",
       "      <th>6278355</th>\n",
       "      <td>73515</td>\n",
       "      <td>14345</td>\n",
       "      <td>7</td>\n",
       "    </tr>\n",
       "    <tr>\n",
       "      <th>6278356</th>\n",
       "      <td>73515</td>\n",
       "      <td>16512</td>\n",
       "      <td>7</td>\n",
       "    </tr>\n",
       "    <tr>\n",
       "      <th>6278357</th>\n",
       "      <td>73515</td>\n",
       "      <td>17187</td>\n",
       "      <td>9</td>\n",
       "    </tr>\n",
       "    <tr>\n",
       "      <th>6278358</th>\n",
       "      <td>73515</td>\n",
       "      <td>22145</td>\n",
       "      <td>10</td>\n",
       "    </tr>\n",
       "  </tbody>\n",
       "</table>\n",
       "<p>6278359 rows × 3 columns</p>\n",
       "</div>"
      ],
      "text/plain": [
       "         user_id  anime_id  rating\n",
       "0              3        20       8\n",
       "1              3       154       6\n",
       "2              3       170       9\n",
       "3              3       199      10\n",
       "4              3       225       9\n",
       "...          ...       ...     ...\n",
       "6278354    73515     13659       8\n",
       "6278355    73515     14345       7\n",
       "6278356    73515     16512       7\n",
       "6278357    73515     17187       9\n",
       "6278358    73515     22145      10\n",
       "\n",
       "[6278359 rows x 3 columns]"
      ]
     },
     "execution_count": 4,
     "metadata": {},
     "output_type": "execute_result"
    }
   ],
   "source": [
    "df_rating"
   ]
  },
  {
   "cell_type": "code",
   "execution_count": 5,
   "metadata": {},
   "outputs": [],
   "source": [
    "reader = Reader(rating_scale = (1, 10))\n",
    "\n",
    "utility_data = Dataset.load_from_df(\n",
    "                    df = df_rating[['user_id', 'anime_id', 'rating']].copy(),\n",
    "                    reader = reader\n",
    "                )"
   ]
  },
  {
   "cell_type": "code",
   "execution_count": 6,
   "metadata": {},
   "outputs": [],
   "source": [
    "### credit pacmann\n",
    "\n",
    "import copy\n",
    "\n",
    "# Create a function\n",
    "def train_test_split(utility_data, test_size=0.2, random_state=42):\n",
    "    \"\"\"\n",
    "    Train test split the data\n",
    "    ref: https://surprise.readthedocs.io/en/stable/FAQ.html#split-data-for-unbiased-estimation-py\n",
    "\n",
    "    Parameters\n",
    "    ----------\n",
    "    utility_data : Surprise utility data\n",
    "        The sample of whole data set\n",
    "\n",
    "    test_size : float, default=0.2\n",
    "        The test size\n",
    "\n",
    "    random_state : int, default=42\n",
    "        For reproducibility\n",
    "\n",
    "    Returns\n",
    "    -------\n",
    "    full_data : Surprise utility data\n",
    "        The new utility data\n",
    "\n",
    "    train_data : Surprise format\n",
    "        The train data\n",
    "\n",
    "    test_data : Surprise format\n",
    "        The test data\n",
    "    \"\"\"\n",
    "    # Deep copy the utility_data\n",
    "    full_data = copy.deepcopy(utility_data)\n",
    "\n",
    "    # Generate random seed\n",
    "    np.random.seed(random_state)\n",
    "\n",
    "    # Shuffle the raw_ratings for reproducibility\n",
    "    raw_ratings = full_data.raw_ratings\n",
    "    np.random.shuffle(raw_ratings)\n",
    "\n",
    "    # Define the threshold\n",
    "    threshold = int((1-test_size) * len(raw_ratings))\n",
    "\n",
    "    # Split the data\n",
    "    train_raw_ratings = raw_ratings[:threshold]\n",
    "    test_raw_ratings = raw_ratings[threshold:]\n",
    "\n",
    "    # Get the data\n",
    "    full_data.raw_ratings = train_raw_ratings\n",
    "    train_data = full_data.build_full_trainset()\n",
    "    test_data = full_data.construct_testset(test_raw_ratings)\n",
    "\n",
    "    return full_data, train_data, test_data\n"
   ]
  },
  {
   "cell_type": "code",
   "execution_count": 7,
   "metadata": {},
   "outputs": [],
   "source": [
    "full_data, train_data, test_data = train_test_split(utility_data)"
   ]
  },
  {
   "cell_type": "markdown",
   "metadata": {},
   "source": [
    "# Modelling"
   ]
  },
  {
   "cell_type": "markdown",
   "metadata": {},
   "source": [
    "### - Mean Predict (Baseline)"
   ]
  },
  {
   "cell_type": "code",
   "execution_count": 8,
   "metadata": {},
   "outputs": [],
   "source": [
    "### credit pacmann\n",
    "\n",
    "class MeanPrediction(AlgoBase):\n",
    "    '''Baseline prediction. Return global mean as prediction'''\n",
    "    def __init__(self):\n",
    "        AlgoBase.__init__(self)\n",
    "\n",
    "    def fit(self, trainset):\n",
    "        '''Fit the train data'''\n",
    "        AlgoBase.fit(self, trainset)\n",
    "\n",
    "    def estimate(self, u, i):\n",
    "        '''Perform the estimation/prediction.'''\n",
    "        est = self.trainset.global_mean\n",
    "        return est"
   ]
  },
  {
   "cell_type": "code",
   "execution_count": 9,
   "metadata": {},
   "outputs": [
    {
     "name": "stdout",
     "output_type": "stream",
     "text": [
      "Evaluating RMSE of algorithm MeanPrediction on 5 split(s).\n",
      "\n",
      "                  Fold 1  Fold 2  Fold 3  Fold 4  Fold 5  Mean    Std     \n",
      "RMSE (testset)    1.5695  1.5720  1.5722  1.5711  1.5722  1.5714  0.0010  \n",
      "Fit time          0.00    1.98    1.96    2.00    2.00    1.59    0.80    \n",
      "Test time         25.39   28.37   21.80   25.73   22.45   24.75   2.39    \n"
     ]
    }
   ],
   "source": [
    "model_baseline = MeanPrediction()\n",
    "cv_baseline = cross_validate(model_baseline, full_data, measures=[\"RMSE\"], cv=5, verbose=True)\n",
    "rmse_cv_baseline = cv_baseline['test_rmse'].mean()"
   ]
  },
  {
   "cell_type": "code",
   "execution_count": 10,
   "metadata": {},
   "outputs": [],
   "source": [
    "# Creating baseline model instance\n",
    "model_baseline = MeanPrediction()\n",
    "model_baseline.fit(train_data)"
   ]
  },
  {
   "cell_type": "code",
   "execution_count": 11,
   "metadata": {},
   "outputs": [
    {
     "name": "stdout",
     "output_type": "stream",
     "text": [
      "RMSE: 1.5714\n"
     ]
    }
   ],
   "source": [
    "prediction = model_baseline.test(test_data)\n",
    "rmse_baseline = accuracy.rmse(prediction)"
   ]
  },
  {
   "cell_type": "code",
   "execution_count": 12,
   "metadata": {},
   "outputs": [],
   "source": [
    "with open('model/model_baseline.pkl','wb') as f:\n",
    "    pickle.dump(model_baseline, f)"
   ]
  },
  {
   "cell_type": "markdown",
   "metadata": {},
   "source": [
    "### - SVD"
   ]
  },
  {
   "cell_type": "code",
   "execution_count": 13,
   "metadata": {},
   "outputs": [
    {
     "name": "stderr",
     "output_type": "stream",
     "text": [
      "[I 2023-09-10 09:38:31,505] A new study created in memory with name: no-name-db333670-cf0e-4922-8d63-88537ea64d2e\n",
      "[I 2023-09-10 10:35:31,271] Trial 1 finished with value: 2.7033869197111366 and parameters: {'n_factors': 10, 'n_epochs': 100, 'lr_all': 0.7606123446416528, 'reg_all': 0.0817987957195958}. Best is trial 1 with value: 2.7033869197111366.\n",
      "[I 2023-09-10 10:37:21,061] Trial 2 finished with value: 1.256672632072373 and parameters: {'n_factors': 80, 'n_epochs': 60, 'lr_all': 0.0001361232602013595, 'reg_all': 0.0010238315064886156}. Best is trial 2 with value: 1.256672632072373.\n",
      "[I 2023-09-10 10:37:24,518] Trial 0 finished with value: 1.166146896270838 and parameters: {'n_factors': 40, 'n_epochs': 80, 'lr_all': 0.0011428791120303447, 'reg_all': 0.09327928792477466}. Best is trial 0 with value: 1.166146896270838.\n",
      "[I 2023-09-10 11:17:06,518] Trial 3 finished with value: 2.70338679735483 and parameters: {'n_factors': 70, 'n_epochs': 20, 'lr_all': 0.04585890337146581, 'reg_all': 0.005514044875723816}. Best is trial 0 with value: 1.166146896270838.\n",
      "[I 2023-09-10 11:18:47,072] Trial 4 finished with value: 1.3270906725206957 and parameters: {'n_factors': 60, 'n_epochs': 60, 'lr_all': 0.0036772508420401554, 'reg_all': 0.0007157247579582974}. Best is trial 0 with value: 1.166146896270838.\n",
      "[I 2023-09-10 11:18:57,045] Trial 5 finished with value: 1.1823791216817399 and parameters: {'n_factors': 60, 'n_epochs': 60, 'lr_all': 0.0004648909310414805, 'reg_all': 0.0023796161301274693}. Best is trial 0 with value: 1.166146896270838.\n"
     ]
    }
   ],
   "source": [
    "def objective(trial):\n",
    "    # Define hyperparameters to optimize\n",
    "    n_factors = trial.suggest_int('n_factors', 10, 100, 10)\n",
    "    n_epochs = trial.suggest_int('n_epochs', 20, 100, 20)\n",
    "    lr_all = trial.suggest_float('lr_all', 1e-4, 1, log=True)\n",
    "    reg_all = trial.suggest_float('reg_all', 1e-4, 1, log=True)\n",
    "\n",
    "    # Create an SVD model with the suggested hyperparameters\n",
    "    model = SVD(n_factors=n_factors, n_epochs=n_epochs, lr_all=lr_all, reg_all=reg_all)\n",
    "\n",
    "    cv_results = cross_validate(model, full_data, measures=['RMSE'], cv=5, verbose=False)\n",
    "    \n",
    "    return cv_results['test_rmse'].mean()\n",
    "\n",
    "study_svd = optuna.create_study(direction='minimize')\n",
    "study_svd.optimize(objective, n_trials=10, timeout=60*60, n_jobs=3)"
   ]
  },
  {
   "cell_type": "code",
   "execution_count": 14,
   "metadata": {},
   "outputs": [
    {
     "name": "stdout",
     "output_type": "stream",
     "text": [
      "RMSE: 1.1575\n"
     ]
    }
   ],
   "source": [
    "model_svd = SVD(**study_svd.best_trial.params)\n",
    "model_svd.fit(train_data)\n",
    "\n",
    "prediction = model_svd.test(test_data)\n",
    "rmse_svd = accuracy.rmse(prediction)"
   ]
  },
  {
   "cell_type": "code",
   "execution_count": 15,
   "metadata": {},
   "outputs": [],
   "source": [
    "with open('model/model_svd.pkl','wb') as f:\n",
    "    pickle.dump(model_svd, f)"
   ]
  },
  {
   "cell_type": "markdown",
   "metadata": {},
   "source": [
    "## Evaluation"
   ]
  },
  {
   "cell_type": "code",
   "execution_count": 17,
   "metadata": {},
   "outputs": [
    {
     "data": {
      "text/html": [
       "<div>\n",
       "<style scoped>\n",
       "    .dataframe tbody tr th:only-of-type {\n",
       "        vertical-align: middle;\n",
       "    }\n",
       "\n",
       "    .dataframe tbody tr th {\n",
       "        vertical-align: top;\n",
       "    }\n",
       "\n",
       "    .dataframe thead th {\n",
       "        text-align: right;\n",
       "    }\n",
       "</style>\n",
       "<table border=\"1\" class=\"dataframe\">\n",
       "  <thead>\n",
       "    <tr style=\"text-align: right;\">\n",
       "      <th></th>\n",
       "      <th>Model</th>\n",
       "      <th>CV Performance - RMSE</th>\n",
       "      <th>Model Configuration</th>\n",
       "    </tr>\n",
       "  </thead>\n",
       "  <tbody>\n",
       "    <tr>\n",
       "      <th>0</th>\n",
       "      <td>Baseline</td>\n",
       "      <td>1.571381</td>\n",
       "      <td>N/A</td>\n",
       "    </tr>\n",
       "    <tr>\n",
       "      <th>1</th>\n",
       "      <td>SVD</td>\n",
       "      <td>1.166147</td>\n",
       "      <td>{'n_factors': 40, 'n_epochs': 80, 'lr_all': 0....</td>\n",
       "    </tr>\n",
       "  </tbody>\n",
       "</table>\n",
       "</div>"
      ],
      "text/plain": [
       "      Model  CV Performance - RMSE  \\\n",
       "0  Baseline               1.571381   \n",
       "1       SVD               1.166147   \n",
       "\n",
       "                                 Model Configuration  \n",
       "0                                                N/A  \n",
       "1  {'n_factors': 40, 'n_epochs': 80, 'lr_all': 0....  "
      ]
     },
     "execution_count": 17,
     "metadata": {},
     "output_type": "execute_result"
    }
   ],
   "source": [
    "summary_df = pd.DataFrame({'Model': ['Baseline', 'SVD'],\n",
    "                           'CV Performance - RMSE': [rmse_cv_baseline, study_svd.best_value],\n",
    "                           'Model Configuration':['N/A', study_svd.best_trial.params]\n",
    "                        })\n",
    "\n",
    "summary_df"
   ]
  },
  {
   "cell_type": "markdown",
   "metadata": {},
   "source": [
    "# Generate Prediction"
   ]
  },
  {
   "cell_type": "code",
   "execution_count": 25,
   "metadata": {},
   "outputs": [
    {
     "data": {
      "text/html": [
       "<div>\n",
       "<style scoped>\n",
       "    .dataframe tbody tr th:only-of-type {\n",
       "        vertical-align: middle;\n",
       "    }\n",
       "\n",
       "    .dataframe tbody tr th {\n",
       "        vertical-align: top;\n",
       "    }\n",
       "\n",
       "    .dataframe thead th {\n",
       "        text-align: right;\n",
       "    }\n",
       "</style>\n",
       "<table border=\"1\" class=\"dataframe\">\n",
       "  <thead>\n",
       "    <tr style=\"text-align: right;\">\n",
       "      <th></th>\n",
       "      <th>user_id</th>\n",
       "      <th>anime_id</th>\n",
       "      <th>predict_rating</th>\n",
       "      <th>name</th>\n",
       "      <th>genre</th>\n",
       "    </tr>\n",
       "  </thead>\n",
       "  <tbody>\n",
       "    <tr>\n",
       "      <th>712</th>\n",
       "      <td>10</td>\n",
       "      <td>820</td>\n",
       "      <td>9.337494</td>\n",
       "      <td>Prince of Tennis: Another Story - Messages Fro...</td>\n",
       "      <td>Comedy, School, Shounen, Sports</td>\n",
       "    </tr>\n",
       "    <tr>\n",
       "      <th>3911</th>\n",
       "      <td>10</td>\n",
       "      <td>5114</td>\n",
       "      <td>9.161407</td>\n",
       "      <td>Pokemon Fushigi no Dungeon: Magnagate to Mugen...</td>\n",
       "      <td>Adventure, Fantasy, Kids</td>\n",
       "    </tr>\n",
       "    <tr>\n",
       "      <th>5783</th>\n",
       "      <td>10</td>\n",
       "      <td>9969</td>\n",
       "      <td>9.146776</td>\n",
       "      <td>Phantasm</td>\n",
       "      <td>Dementia, Music</td>\n",
       "    </tr>\n",
       "    <tr>\n",
       "      <th>5510</th>\n",
       "      <td>10</td>\n",
       "      <td>9253</td>\n",
       "      <td>9.145071</td>\n",
       "      <td>Kitty to Mimmy no Happy Birthday</td>\n",
       "      <td>Fantasy, Kids</td>\n",
       "    </tr>\n",
       "    <tr>\n",
       "      <th>6198</th>\n",
       "      <td>10</td>\n",
       "      <td>11061</td>\n",
       "      <td>9.119065</td>\n",
       "      <td>Renai Boukun</td>\n",
       "      <td>Comedy, Romance, School, Supernatural</td>\n",
       "    </tr>\n",
       "    <tr>\n",
       "      <th>805</th>\n",
       "      <td>10</td>\n",
       "      <td>918</td>\n",
       "      <td>9.111605</td>\n",
       "      <td>One Piece Movie 6: Omatsuri Danshaku to Himits...</td>\n",
       "      <td>Adventure, Comedy, Fantasy, Shounen</td>\n",
       "    </tr>\n",
       "    <tr>\n",
       "      <th>3480</th>\n",
       "      <td>10</td>\n",
       "      <td>4181</td>\n",
       "      <td>8.998173</td>\n",
       "      <td>Bayonetta: Bloody Fate</td>\n",
       "      <td>Action, Demons, Fantasy, Super Power</td>\n",
       "    </tr>\n",
       "    <tr>\n",
       "      <th>2607</th>\n",
       "      <td>10</td>\n",
       "      <td>2904</td>\n",
       "      <td>8.984767</td>\n",
       "      <td>Captain Future</td>\n",
       "      <td>Action, Adventure, Sci-Fi, Shounen</td>\n",
       "    </tr>\n",
       "    <tr>\n",
       "      <th>9</th>\n",
       "      <td>10</td>\n",
       "      <td>19</td>\n",
       "      <td>8.927449</td>\n",
       "      <td>Code Geass: Hangyaku no Lelouch</td>\n",
       "      <td>Action, Mecha, Military, School, Sci-Fi, Super...</td>\n",
       "    </tr>\n",
       "    <tr>\n",
       "      <th>2619</th>\n",
       "      <td>10</td>\n",
       "      <td>2921</td>\n",
       "      <td>8.890382</td>\n",
       "      <td>Ochamegami Monogatari: Korokoro Pollon</td>\n",
       "      <td>Comedy, Magic, Parody</td>\n",
       "    </tr>\n",
       "  </tbody>\n",
       "</table>\n",
       "</div>"
      ],
      "text/plain": [
       "      user_id  anime_id  predict_rating  \\\n",
       "712        10       820        9.337494   \n",
       "3911       10      5114        9.161407   \n",
       "5783       10      9969        9.146776   \n",
       "5510       10      9253        9.145071   \n",
       "6198       10     11061        9.119065   \n",
       "805        10       918        9.111605   \n",
       "3480       10      4181        8.998173   \n",
       "2607       10      2904        8.984767   \n",
       "9          10        19        8.927449   \n",
       "2619       10      2921        8.890382   \n",
       "\n",
       "                                                   name  \\\n",
       "712   Prince of Tennis: Another Story - Messages Fro...   \n",
       "3911  Pokemon Fushigi no Dungeon: Magnagate to Mugen...   \n",
       "5783                                           Phantasm   \n",
       "5510                   Kitty to Mimmy no Happy Birthday   \n",
       "6198                                       Renai Boukun   \n",
       "805   One Piece Movie 6: Omatsuri Danshaku to Himits...   \n",
       "3480                             Bayonetta: Bloody Fate   \n",
       "2607                                     Captain Future   \n",
       "9                       Code Geass: Hangyaku no Lelouch   \n",
       "2619             Ochamegami Monogatari: Korokoro Pollon   \n",
       "\n",
       "                                                  genre  \n",
       "712                     Comedy, School, Shounen, Sports  \n",
       "3911                           Adventure, Fantasy, Kids  \n",
       "5783                                    Dementia, Music  \n",
       "5510                                      Fantasy, Kids  \n",
       "6198              Comedy, Romance, School, Supernatural  \n",
       "805                 Adventure, Comedy, Fantasy, Shounen  \n",
       "3480               Action, Demons, Fantasy, Super Power  \n",
       "2607                 Action, Adventure, Sci-Fi, Shounen  \n",
       "9     Action, Mecha, Military, School, Sci-Fi, Super...  \n",
       "2619                              Comedy, Magic, Parody  "
      ]
     },
     "execution_count": 25,
     "metadata": {},
     "output_type": "execute_result"
    },
    {
     "ename": "",
     "evalue": "",
     "output_type": "error",
     "traceback": [
      "\u001b[1;31mThe Kernel crashed while executing code in the the current cell or a previous cell. Please review the code in the cell(s) to identify a possible cause of the failure. Click <a href='https://aka.ms/vscodeJupyterKernelCrash'>here</a> for more info. View Jupyter <a href='command:jupyter.viewOutput'>log</a> for further details."
     ]
    }
   ],
   "source": [
    "from prediction import AnimeRecSys\n",
    "\n",
    "user_id = 10\n",
    "AnimeRecSys(user_id).top_predict()"
   ]
  },
  {
   "cell_type": "code",
   "execution_count": null,
   "metadata": {},
   "outputs": [],
   "source": []
  }
 ],
 "metadata": {
  "kernelspec": {
   "display_name": "notebook",
   "language": "python",
   "name": "python3"
  },
  "language_info": {
   "codemirror_mode": {
    "name": "ipython",
    "version": 3
   },
   "file_extension": ".py",
   "mimetype": "text/x-python",
   "name": "python",
   "nbconvert_exporter": "python",
   "pygments_lexer": "ipython3",
   "version": "3.10.12"
  },
  "orig_nbformat": 4
 },
 "nbformat": 4,
 "nbformat_minor": 2
}
